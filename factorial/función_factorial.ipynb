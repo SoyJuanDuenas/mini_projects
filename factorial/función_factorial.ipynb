{
 "cells": [
  {
   "cell_type": "markdown",
   "id": "ff5e1754",
   "metadata": {},
   "source": [
    "<center><h1>Función factorial</h1></center>\n",
    "<center><h2>Juan David Dueñas Garavito</h2></center>"
   ]
  },
  {
   "cell_type": "markdown",
   "id": "f1d220f8",
   "metadata": {},
   "source": [
    "El objeto de este mini proyecto es practicar funciones"
   ]
  },
  {
   "cell_type": "markdown",
   "id": "e49b6b6e",
   "metadata": {},
   "source": [
    "<h3>Ruta de trabajo inicial</h3>"
   ]
  },
  {
   "cell_type": "markdown",
   "id": "58312c52",
   "metadata": {},
   "source": [
    "Este proyecto no tiene mayor complejidad de codigo, simplemente es verificar la formula matematica del factorial y colocarla en una función de python con el fin de que tenga un solo parametro el cual es el numero al cual quiere aplicarsele el factorial.\n",
    "\n",
    "Cuando hablamos de un factorial (!) hacemos referencia a la multiplicación del numero por cada de sus anteriores numeros hasta el 1"
   ]
  },
  {
   "cell_type": "code",
   "execution_count": 67,
   "id": "a36712a6",
   "metadata": {},
   "outputs": [
    {
     "name": "stdout",
     "output_type": "stream",
     "text": [
      "El resultado de la multiplicación es: 120\n"
     ]
    }
   ],
   "source": [
    "def factorial(factor):\n",
    "    lista = []\n",
    "    while factor != 1:\n",
    "        lista.append(factor)\n",
    "        factor = factor-1\n",
    "    resultado = 1\n",
    "    for elemento in lista:\n",
    "        resultado *= elemento\n",
    "    print(resultado)\n",
    "\n",
    "factorial(5)\n",
    "    "
   ]
  }
 ],
 "metadata": {
  "kernelspec": {
   "display_name": "Python 3 (ipykernel)",
   "language": "python",
   "name": "python3"
  },
  "language_info": {
   "codemirror_mode": {
    "name": "ipython",
    "version": 3
   },
   "file_extension": ".py",
   "mimetype": "text/x-python",
   "name": "python",
   "nbconvert_exporter": "python",
   "pygments_lexer": "ipython3",
   "version": "3.9.13"
  }
 },
 "nbformat": 4,
 "nbformat_minor": 5
}
