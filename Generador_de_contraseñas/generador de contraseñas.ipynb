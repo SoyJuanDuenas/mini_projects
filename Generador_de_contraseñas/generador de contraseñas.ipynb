{
 "cells": [
  {
   "cell_type": "markdown",
   "id": "b81044dd",
   "metadata": {},
   "source": [
    "<center><h1>Generador de contraseñas</h1></center>\n",
    "<center><h2>Juan David Dueñas Garavito</h2></center>\n"
   ]
  },
  {
   "cell_type": "markdown",
   "id": "02276945",
   "metadata": {},
   "source": [
    "El objeto de este proyecto es practicar bucles y variables. sin embargo, como todo proyecto esta sujeto a actualizaciones con miras de aumentar su funcionalidad y complejidad."
   ]
  },
  {
   "cell_type": "markdown",
   "id": "1250e6d9",
   "metadata": {},
   "source": [
    "<h3>Ruta de trabajo inicial</h3>"
   ]
  },
  {
   "cell_type": "markdown",
   "id": "20d4663c",
   "metadata": {},
   "source": [
    "Empezaremos creando una variable que almacene las contraseñas, preferiblemente un diccionario que relacione el lugar de la contraseña y la contraseña perse, ahora este diccionario debe estar sujeto a modificación constante, asi que la primera pregunta a responder es como podemos modificar un diccionario, probablemente con metodos, repasar los metodos del diccionario.\n",
    "\n",
    "Despues de esto necesitamos crear una función donde se genere la constraseña, pero antes debo preguntar donde quiero o a que llave quiero asociar la contraseña.\n",
    "\n",
    "La función generadora de la contraseña debe aleatoriamente a partir de unos caracteres probablemente contenidos en una lista o tupla generar un string de 12 caracteres y almacenarlos en el diccionario\n",
    "\n",
    "la interacción con el usuario unicamente se debe limitar a preguntar el sitio o a que debe estar relacionada esa contraseña.\n",
    "\n",
    "---------------------------------------------------------------------------------------------------------------------------\n",
    "\n",
    "es mejor un dict o un dataframe ? empecemos con el dict para practicar, luego podemos añadir la misma estructura sobre un dataframe para empezar a practicar pandas\n",
    "\n",
    "como trabaja el modulo secrets ? cual es la implementación que se le puede dar a este proyecto en vez de random ? cuales son las implicancias en seguridad, podemos aprender algo de aletoreidad acá\n",
    "\n",
    "se puede volver función ? tipo le meto a que quiero hacer contraseña en los parametros (más de una al tiempo) y simplemente me saca un dataframe o un diccionario\n",
    "\n",
    "luego como puedo editarlo tipo tener un dataframe y cambiar contraseñas, pasar de un generador de contraseñas a un gestor de contraseñas\n",
    "\n",
    "----------------------------------------------------------------------------------------------------------------------------"
   ]
  },
  {
   "cell_type": "code",
   "execution_count": 7,
   "id": "c199bceb",
   "metadata": {},
   "outputs": [],
   "source": [
    "import random"
   ]
  },
  {
   "cell_type": "code",
   "execution_count": 8,
   "id": "be5dac72",
   "metadata": {},
   "outputs": [],
   "source": [
    "contraseñas = {\n",
    "    \"sitio\":\"contraseña\",   \n",
    "}\n",
    "\n",
    "caracteres = [\n",
    "    \"a\", \"b\", \"c\", \"d\", \"e\", \"f\", \"g\", \"h\", \"i\", \"j\", \"k\", \"l\", \"m\", \n",
    "    \"n\", \"ñ\", \"o\", \"p\", \"q\", \"r\", \"s\", \"t\", \"u\", \"v\", \"w\", \"x\", \"y\", \"z\",\n",
    "    \"A\", \"B\", \"C\", \"D\", \"E\", \"F\", \"G\", \"H\", \"I\", \"J\", \"K\", \"L\", \"M\", \n",
    "    \"N\", \"Ñ\", \"O\", \"P\", \"Q\", \"R\", \"S\", \"T\", \"U\", \"V\", \"W\", \"X\", \"Y\", \"Z\",\n",
    "    \"0\", \"1\", \"2\", \"3\", \"4\", \"5\", \"6\", \"7\", \"8\", \"9\",\n",
    "     \".\", \",\", \";\", \":\", \"!\", \"?\", \"¿\", \"¡\", \"(\", \")\", \"-\", \"_\", \"+\", \"/\", \"*\",\n",
    "    \"@\", \"#\", \"$\", \"%\", \"&\", \"=\", \"'\", \"\\\"\", \"<\", \">\", \"[\", \"]\", \"{\", \"}\"\n",
    "]\n"
   ]
  },
  {
   "cell_type": "code",
   "execution_count": 9,
   "id": "96a4ce49",
   "metadata": {},
   "outputs": [
    {
     "name": "stdout",
     "output_type": "stream",
     "text": [
      "Ingresa el lugar al cual quieres crearle una nueva contraseñacasa de angel\n"
     ]
    },
    {
     "data": {
      "text/plain": [
       "{'sitio': 'contraseña', 'casa de angel': '>7y[iU0¡OF}]z'}"
      ]
     },
     "execution_count": 9,
     "metadata": {},
     "output_type": "execute_result"
    }
   ],
   "source": [
    "list_contraseña = []\n",
    "\n",
    "for i in range(13):\n",
    "    list_contraseña.append(caracteres[(random.randrange(0,len(caracteres)))])\n",
    "\n",
    "contraseña_str = \"\".join(list_contraseña)\n",
    "contraseña_str\n",
    "\n",
    "contraseñas[input(\"Ingresa el lugar al cual quieres crearle una nueva contraseña\")] = contraseña_str\n",
    "\n",
    "contraseñas"
   ]
  }
 ],
 "metadata": {
  "kernelspec": {
   "display_name": "Python 3 (ipykernel)",
   "language": "python",
   "name": "python3"
  },
  "language_info": {
   "codemirror_mode": {
    "name": "ipython",
    "version": 3
   },
   "file_extension": ".py",
   "mimetype": "text/x-python",
   "name": "python",
   "nbconvert_exporter": "python",
   "pygments_lexer": "ipython3",
   "version": "3.9.13"
  }
 },
 "nbformat": 4,
 "nbformat_minor": 5
}
