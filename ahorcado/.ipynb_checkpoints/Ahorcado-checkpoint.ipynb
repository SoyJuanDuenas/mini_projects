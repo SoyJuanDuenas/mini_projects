{
 "cells": [
  {
   "cell_type": "markdown",
   "id": "f0f3c1e9",
   "metadata": {},
   "source": [
    "<center><h1>Ahorcado</h1></center>\n",
    "<center><h2>Juan David Dueñas Garavito</h2></center>"
   ]
  },
  {
   "cell_type": "markdown",
   "id": "6904658f",
   "metadata": {},
   "source": [
    "El objeto del presente proyecto es desarrollar un juego de ahorcado en 2 momentos distintos,usando funciones y finalmente usando clases aplicando POO, esto con el fin de entender las diferencias en el codigo usando estas herramientas."
   ]
  },
  {
   "cell_type": "markdown",
   "id": "c7d1a2fa",
   "metadata": {},
   "source": [
    "<h2>Ahorcado con funciones</h2>\n",
    "\n",
    "Iniciamos trazando nuestra ruta de trabajo, para hacerlo vamos a enumerar lo que necesitamos y despues de esto vamos a mirar las herramientas por medio de las cuales podemos solucionar el problema y finalmente integar todo.\n",
    "\n",
    "Debemos usar las siguientes funciones:\n",
    "\n",
    "    - Dibujar\n",
    "    - Verificar Palabra\n",
    "    - Decidir palabra\n",
    "    - Menú\n",
    "    - Ingresar Palabra\n",
    "\n",
    "El usuario debe ver apenas corre el codigo el numero de caracteres en guiones bajos, posterior a esto se le debe preguntar que caracter ingresar, con esto se debe decidir si esta en la lista de caracteres o no, en caso afirmativo mostrar el nuevo numero de guiones bajos con los caracteres mostrados, si no mostrar un contador de errores (luego miramos como dibujar esto)\n",
    "\n",
    "verificar si todos los caracteres estan mostrados dar un ganaste y verificar si llego al total el contador de posibles errores mostrar un perdiste y romper\n",
    "\n"
   ]
  },
  {
   "cell_type": "code",
   "execution_count": 1,
   "id": "16ba62bf",
   "metadata": {},
   "outputs": [],
   "source": [
    "import random\n",
    "import matplotlib.pyplot as plt\n",
    "import numpy as np"
   ]
  },
  {
   "cell_type": "code",
   "execution_count": 27,
   "id": "a012ea6c",
   "metadata": {},
   "outputs": [
    {
     "name": "stdout",
     "output_type": "stream",
     "text": [
      "Tu palabra elegida tiene 5 caracteres, es decir se ve así: _ _ _ _ _ \n",
      "['_', '_', '_', '_', '_', '']\n"
     ]
    },
    {
     "data": {
      "text/plain": [
       "['b', 'o', 't', 'a', 's']"
      ]
     },
     "execution_count": 27,
     "metadata": {},
     "output_type": "execute_result"
    }
   ],
   "source": [
    "def decidir_palabra():\n",
    "    palabras = [\"Perro\", \"Gato\", \"Vaso\", \"Ventana\", \"Cama\", \"Coche\", \"Jardín\", \"Llave\", \"Pared\", \"Mesa\", \"Silla\", \"Libro\",\n",
    "     \"Puerta\", \"Agua\", \"Luz\", \"Comida\", \"Tierra\", \"Aire\", \"Fuego\", \"Hierro\", \"Oro\", \"Plata\", \"Cobre\", \"Madera\", \"Piedra\",\n",
    "     \"Cristal\", \"Acero\", \"Aluminio\", \"Bronce\", \"Titanio\", \"Oxígeno\", \"Nitrógeno\", \"Carbono\", \"Hidrógeno\", \"Helio\", \"Neón\",\n",
    "     \"Argón\", \"Kriptón\", \"Xenón\", \"Radio\", \"Televisión\", \"Internet\", \"Computadora\", \"Teléfono\", \"Reloj\", \"Cepillo\", \"Peine\",\n",
    "     \"Secador\", \"Jabón\", \"Champú\", \"Acondicionador\", \"Toalla\", \"Cepillo de dientes\", \"Pasta dental\", \"Desodorante\", \"Perfume\",\n",
    "     \"Maquillaje\", \"Lápiz labial\", \"Sombrero\", \"Gorra\", \"Bufanda\", \"Guantes\", \"Calcetines\", \"Zapatos\", \"Botas\", \"Sandalias\",\n",
    "     \"Camisa\", \"Camiseta\", \"Pantalón\", \"Jeans\", \"Falda\", \"Vestido\", \"Traje\", \"Corbata\", \"Bolsa\", \"Cartera\", \"Moneda\", \"Dinero\",\n",
    "     \"Tarjeta\", \"Clave\", \"Lápiz\", \"Bolígrafo\", \"Pluma\", \"Pincel\", \"Pintura\", \"Lienzo\", \"Música\", \"Baile\", \"Teatro\", \"Cine\",\n",
    "     \"Pintura\", \"Escultura\", \"Literatura\", \"Poema\", \"Novela\", \"Cuento\", \"Historia\", \"Geografía\", \"Matemáticas\", \"Física\",\n",
    "     \"Química\", \"Biología\", \"Medicina\"]\n",
    "    \n",
    "    palabra_elegida = random.choice(palabras)\n",
    "    \n",
    "    caracteres = len(palabra_elegida)\n",
    "    \n",
    "    palabra_censurada = caracteres*\"_ \"\n",
    "    palabra_censurada_list = palabra_censurada.split(\" \")\n",
    "    print(f\"Tu palabra elegida tiene {caracteres} caracteres, es decir se ve así: {palabra_censurada}\")\n",
    "    palabra_elegida_list = list(palabra_elegida.lower())\n",
    "    print(palabra_censurada_list)\n",
    "    return palabra_elegida_list\n",
    "decidir_palabra()"
   ]
  },
  {
   "cell_type": "code",
   "execution_count": 14,
   "id": "f3601fc7",
   "metadata": {},
   "outputs": [
    {
     "data": {
      "image/png": "[encoded data removed]",
      "text/plain": [
       "<Figure size 640x480 with 1 Axes>"
      ]
     },
     "metadata": {},
     "output_type": "display_data"
    },
    {
     "data": {
      "text/plain": [
       "1"
      ]
     },
     "execution_count": 14,
     "metadata": {},
     "output_type": "execute_result"
    }
   ],
   "source": [
    "contador_errores = 0\n",
    "\n",
    "def dibujar():\n",
    "    global contador_errores\n",
    "    contador_errores += 1\n",
    "    \n",
    "    if contador_errores == 1:\n",
    "\n",
    "        theta = np.linspace(0, 2*np.pi, 100)\n",
    "\n",
    "        r = 5\n",
    "        x = r * np.cos(theta)\n",
    "        y = r * np.sin(theta)\n",
    "        plt.plot(x, y)\n",
    "        plt.show()\n",
    "        \n",
    "        return contador_errores\n",
    "    \n",
    "    elif contador_errores == 2:\n",
    "        theta = np.linspace(0, 2*np.pi, 100)\n",
    "\n",
    "        r = 5\n",
    "        x = r * np.cos(theta)\n",
    "        y = r * np.sin(theta)\n",
    "        plt.plot(x, y)\n",
    "        plt.show()\n",
    "        \n",
    "        return contador_errores\n",
    "    \n",
    "    elif contador_errores == 3:\n",
    "        # crear un arreglo de valores para el ángulo del círculo\n",
    "        theta = np.linspace(0, 2*np.pi, 100)\n",
    "\n",
    "        # crear las coordenadas x e y del círculo\n",
    "        r = 0.5\n",
    "        x = r * np.cos(theta) \n",
    "        y = r * np.sin(theta) + 5\n",
    "\n",
    "        # dibujar el círculo\n",
    "        plt.plot(x, y)\n",
    "\n",
    "        # dibujar una línea desde el centro del círculo hasta el borde\n",
    "        plt.plot([0, 0], [4.5, 3.5])\n",
    "\n",
    "        # hacer que los ejes tengan la misma escala\n",
    "        plt.axis('equal')\n",
    "\n",
    "        # mostrar el gráfico\n",
    "        plt.show()\n",
    "        \n",
    "        return contador_errores\n",
    "    \n",
    "    elif contador_errores == 4:\n",
    "        # crear un arreglo de valores para el ángulo del círculo\n",
    "        theta = np.linspace(0, 2*np.pi, 100)\n",
    "\n",
    "        # crear las coordenadas x e y del círculo\n",
    "        r = 0.5\n",
    "        x = r * np.cos(theta) \n",
    "        y = r * np.sin(theta) + 5\n",
    "\n",
    "        # dibujar el círculo\n",
    "        plt.plot(x, y)\n",
    "\n",
    "        # dibujar una línea desde el centro del círculo hasta el borde\n",
    "        plt.plot([0, 0], [4.5, 3.5])\n",
    "\n",
    "        #dibujar los bracitos\n",
    "        plt.plot([-0.5, 0.5], [4.25, 4.25])\n",
    "\n",
    "        # hacer que los ejes tengan la misma escala\n",
    "        plt.axis('equal')\n",
    "\n",
    "        # mostrar el gráfico\n",
    "        plt.show()\n",
    "        \n",
    "        return contador_errores\n",
    "        \n",
    "    elif contador_errores == 5:\n",
    "        # crear un arreglo de valores para el ángulo del círculo\n",
    "        theta = np.linspace(0, 2*np.pi, 100)\n",
    "\n",
    "        # crear las coordenadas x e y del círculo\n",
    "        r = 0.5\n",
    "        x = r * np.cos(theta) \n",
    "        y = r * np.sin(theta) + 5\n",
    "\n",
    "        # dibujar el círculo\n",
    "        plt.plot(x, y)\n",
    "\n",
    "        # dibujar una línea desde el centro del círculo hasta el borde\n",
    "        plt.plot([0, 0], [4.5, 3.5])\n",
    "\n",
    "        #dibujar los bracitos\n",
    "        plt.plot([-0.5, 0.5], [4.25, 4.25])\n",
    "\n",
    "        #dibujar los piecitos\n",
    "        plt.plot([0, -0.25], [3.5, 3])\n",
    "        plt.plot([0, 0.25], [3.5, 3])\n",
    "\n",
    "        # hacer que los ejes tengan la misma escala\n",
    "        plt.axis('equal')\n",
    "\n",
    "        # mostrar el gráfico\n",
    "        plt.show()\n",
    "        \n",
    "        return contador_errores\n",
    "\n",
    "    elif contador_errores == 6:\n",
    "        # crear un arreglo de valores para el ángulo del círculo\n",
    "        theta = np.linspace(0, 2*np.pi, 100)\n",
    "\n",
    "        # crear las coordenadas x e y del círculo\n",
    "        r = 0.5\n",
    "        x = r * np.cos(theta) \n",
    "        y = r * np.sin(theta) + 5\n",
    "\n",
    "        # dibujar el círculo\n",
    "        plt.plot(x, y)\n",
    "\n",
    "        # dibujar una línea desde el centro del círculo hasta el borde\n",
    "        plt.plot([0, 0], [4.5, 3.5])\n",
    "\n",
    "        #dibujar los bracitos\n",
    "        plt.plot([-0.5, 0.5], [4.25, 4.25])\n",
    "\n",
    "        #dibujar los piecitos\n",
    "        plt.plot([0, -0.25], [3.5, 3])\n",
    "        plt.plot([0, 0.25], [3.5, 3])\n",
    "        #dibujar la horca\n",
    "        plt.plot([-1, -1], [3, 6])\n",
    "        plt.plot([-1, 0], [6, 6])\n",
    "\n",
    "        # hacer que los ejes tengan la misma escala\n",
    "        plt.axis('equal')\n",
    "\n",
    "        # mostrar el gráfico\n",
    "        plt.show()\n",
    "        return contador_errores\n",
    "    else:\n",
    "        # crear un arreglo de valores para el ángulo del círculo\n",
    "        theta = np.linspace(0, 2*np.pi, 100)\n",
    "\n",
    "        # crear las coordenadas x e y del círculo\n",
    "        r = 0.5\n",
    "        x = r * np.cos(theta) \n",
    "        y = r * np.sin(theta) + 5\n",
    "\n",
    "        # dibujar el círculo\n",
    "        plt.plot(x, y)\n",
    "\n",
    "        # dibujar una línea desde el centro del círculo hasta el borde\n",
    "        plt.plot([0, 0], [4.5, 3.5])\n",
    "\n",
    "        #dibujar los bracitos\n",
    "        plt.plot([-0.5, 0.5], [4.25, 4.25])\n",
    "\n",
    "        #dibujar los piecitos\n",
    "        plt.plot([0, -0.25], [3.5, 3])\n",
    "        plt.plot([0, 0.25], [3.5, 3])\n",
    "        #dibujar la horca\n",
    "        plt.plot([-1, -1], [3, 6])\n",
    "        plt.plot([-1, 0], [6, 6])\n",
    "        #completar la horca y hacer al la cara de muerto\n",
    "        plt.plot([0, 0], [6, 5.5])\n",
    "\n",
    "        plt.plot([-0.2, -0.1], [5.2, 5.1])\n",
    "        plt.plot([-0.2, -0.1], [5.1, 5.2])\n",
    "\n",
    "        plt.plot([0.2, 0.1], [5.2, 5.1])\n",
    "        plt.plot([0.2, 0.1], [5.1, 5.2])\n",
    "\n",
    "        plt.plot([-0.25, 0.25], [4.75, 4.75])\n",
    "\n",
    "        # hacer que los ejes tengan la misma escala\n",
    "        plt.axis('equal')\n",
    "\n",
    "        # mostrar el gráfico\n",
    "        plt.show()\n",
    "        print(\"Ahorcado\")\n",
    "\n",
    "dibujar()"
   ]
  },
  {
   "cell_type": "code",
   "execution_count": 4,
   "id": "06f4c235",
   "metadata": {},
   "outputs": [
    {
     "name": "stdout",
     "output_type": "stream",
     "text": [
      "Tu palabra elegida tiene 6 caracteres, es decir se ve así: _ _ _ _ _ _ \n",
      "Ingrese su caracter elegidof\n",
      "Tu palabra elegida tiene 5 caracteres, es decir se ve así: _ _ _ _ _ \n"
     ]
    },
    {
     "ename": "UnboundLocalError",
     "evalue": "local variable 'contador_errores' referenced before assignment",
     "output_type": "error",
     "traceback": [
      "\u001b[1;31m---------------------------------------------------------------------------\u001b[0m",
      "\u001b[1;31mUnboundLocalError\u001b[0m                         Traceback (most recent call last)",
      "\u001b[1;32m~\\AppData\\Local\\Temp\\ipykernel_16864\\1905525473.py\u001b[0m in \u001b[0;36m<module>\u001b[1;34m\u001b[0m\n\u001b[0;32m      6\u001b[0m         \u001b[1;32mpass\u001b[0m\u001b[1;33m\u001b[0m\u001b[1;33m\u001b[0m\u001b[0m\n\u001b[0;32m      7\u001b[0m     \u001b[1;32melse\u001b[0m\u001b[1;33m:\u001b[0m\u001b[1;33m\u001b[0m\u001b[1;33m\u001b[0m\u001b[0m\n\u001b[1;32m----> 8\u001b[1;33m         \u001b[0mdibujar\u001b[0m\u001b[1;33m(\u001b[0m\u001b[1;33m)\u001b[0m\u001b[1;33m\u001b[0m\u001b[1;33m\u001b[0m\u001b[0m\n\u001b[0m\u001b[0;32m      9\u001b[0m \u001b[1;33m\u001b[0m\u001b[0m\n",
      "\u001b[1;32m~\\AppData\\Local\\Temp\\ipykernel_16864\\697698118.py\u001b[0m in \u001b[0;36mdibujar\u001b[1;34m()\u001b[0m\n\u001b[0;32m      1\u001b[0m \u001b[1;32mdef\u001b[0m \u001b[0mdibujar\u001b[0m\u001b[1;33m(\u001b[0m\u001b[1;33m)\u001b[0m\u001b[1;33m:\u001b[0m\u001b[1;33m\u001b[0m\u001b[1;33m\u001b[0m\u001b[0m\n\u001b[1;32m----> 2\u001b[1;33m     \u001b[0mcontador_errores\u001b[0m \u001b[1;33m+=\u001b[0m \u001b[1;36m1\u001b[0m\u001b[1;33m\u001b[0m\u001b[1;33m\u001b[0m\u001b[0m\n\u001b[0m\u001b[0;32m      3\u001b[0m \u001b[1;33m\u001b[0m\u001b[0m\n\u001b[0;32m      4\u001b[0m     \u001b[1;32mif\u001b[0m \u001b[0mcontador_errores\u001b[0m \u001b[1;33m==\u001b[0m \u001b[1;36m1\u001b[0m\u001b[1;33m:\u001b[0m\u001b[1;33m\u001b[0m\u001b[1;33m\u001b[0m\u001b[0m\n\u001b[0;32m      5\u001b[0m \u001b[1;33m\u001b[0m\u001b[0m\n",
      "\u001b[1;31mUnboundLocalError\u001b[0m: local variable 'contador_errores' referenced before assignment"
     ]
    }
   ],
   "source": [
    "decidir_palabra()\n",
    "\n",
    "while contador_errores < 7:\n",
    "    caracter_usuario = input(\"Ingrese su caracter elegido\")\n",
    "    if caracter_usuario in decidir_palabra():\n",
    "        pass\n",
    "    else:\n",
    "        dibujar()\n",
    "        "
   ]
  }
 ],
 "metadata": {
  "kernelspec": {
   "display_name": "Python 3 (ipykernel)",
   "language": "python",
   "name": "python3"
  },
  "language_info": {
   "codemirror_mode": {
    "name": "ipython",
    "version": 3
   },
   "file_extension": ".py",
   "mimetype": "text/x-python",
   "name": "python",
   "nbconvert_exporter": "python",
   "pygments_lexer": "ipython3",
   "version": "3.9.13"
  }
 },
 "nbformat": 4,
 "nbformat_minor": 5
}
