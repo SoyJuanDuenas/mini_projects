{
 "cells": [
  {
   "cell_type": "markdown",
   "id": "f0f3c1e9",
   "metadata": {},
   "source": [
    "<center><h1>Ahorcado</h1></center>\n",
    "<center><h2>Juan David Dueñas Garavito</h2></center>"
   ]
  },
  {
   "cell_type": "markdown",
   "id": "6904658f",
   "metadata": {},
   "source": [
    "El objeto del presente proyecto es desarrollar un juego de ahorcado en 3 momentos distintos, sin usar funciones, usando funciones y finalmente usando clases aplicando POO, esto con el fin de entender las diferencias en el codigo usando estas herramientas."
   ]
  },
  {
   "cell_type": "markdown",
   "id": "c7d1a2fa",
   "metadata": {},
   "source": [
    "<h2>Ahorcado sin funciones</h2>\n",
    "\n",
    "Iniciamos trazando nuestra ruta de trabajo, para hacerlo vamos a enumerar lo que necesitamos y despues de esto vamos a mirar las herramientas por medio de las cuales podemos solucionar el problema y finalmente integar todo.\n",
    "\n",
    "    - Generar una palabra\n",
    "    - Mostrar de cuantos caracteres es la palabra\n",
    "    - Pedir un caracter\n",
    "    - verificar si el caracter ingresado hace parte de los caracteres pertenecientes a la palabra generada\n",
    "    - de ser afirmativa esta respuesta devolver el caracter y la posición que acertó y iniciar otra vez el bucle\n",
    "    - de ser negativa esta respuesta devolver un contador de errores y volver a iniciar el bucle\n",
    "    - si el contador de errores llega a su tope advertir que se perdió y matar el proceso\n",
    "    - si se adivina toda la palabra advertir que se ganó y matar el proceso\n",
    "\n",
    "Ahora empecemos a planear:\n",
    "    \n",
    "    - La generación de la palabra no puede ser aleatoria, tiene que venir del español, podemos intentar con un banco de \n",
    "    letras en una lista y elegir aleatoriamente"
   ]
  }
 ],
 "metadata": {
  "kernelspec": {
   "display_name": "Python 3 (ipykernel)",
   "language": "python",
   "name": "python3"
  },
  "language_info": {
   "codemirror_mode": {
    "name": "ipython",
    "version": 3
   },
   "file_extension": ".py",
   "mimetype": "text/x-python",
   "name": "python",
   "nbconvert_exporter": "python",
   "pygments_lexer": "ipython3",
   "version": "3.9.13"
  }
 },
 "nbformat": 4,
 "nbformat_minor": 5
}
