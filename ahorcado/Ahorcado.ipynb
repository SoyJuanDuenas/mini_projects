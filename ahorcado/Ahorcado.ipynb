{
 "cells": [
  {
   "cell_type": "markdown",
   "id": "f0f3c1e9",
   "metadata": {},
   "source": [
    "<center><h2>Ahorcado</h2></center>\n",
    "<center><h2>Juan David Dueñas Garavito</h2></center>"
   ]
  },
  {
   "cell_type": "markdown",
   "id": "6904658f",
   "metadata": {},
   "source": [
    "El objeto del presente proyecto es desarrollar un juego de ahorcado en 2 momentos distintos,usando funciones y finalmente usando clases aplicando POO, esto con el fin de entender las diferencias en el codigo usando estas herramientas."
   ]
  },
  {
   "cell_type": "markdown",
   "id": "c7d1a2fa",
   "metadata": {},
   "source": [
    "<h2>Ahorcado con funciones</h2>\n",
    "\n",
    "Iniciamos trazando nuestra ruta de trabajo, para hacerlo vamos a enumerar lo que necesitamos y despues de esto vamos a mirar las herramientas por medio de las cuales podemos solucionar el problema y finalmente integar todo.\n",
    "\n",
    "Debemos usar las siguientes funciones:\n",
    "\n",
    "    - Dibujar\n",
    "    - Verificar Palabra\n",
    "    - Decidir palabra\n",
    "    - Menú\n",
    "    - Ingresar Palabra\n",
    "\n",
    "El usuario debe ver apenas corre el codigo el numero de caracteres en guiones bajos, posterior a esto se le debe preguntar que caracter ingresar, con esto se debe decidir si esta en la lista de caracteres o no, en caso afirmativo mostrar el nuevo numero de guiones bajos con los caracteres mostrados, si no mostrar un contador de errores (luego miramos como dibujar esto)\n",
    "\n",
    "verificar si todos los caracteres estan mostrados dar un ganaste y verificar si llego al total el contador de posibles errores mostrar un perdiste y romper\n",
    "\n"
   ]
  },
  {
   "cell_type": "code",
   "execution_count": 1,
   "id": "16ba62bf",
   "metadata": {
    "tags": []
   },
   "outputs": [],
   "source": [
    "import random\n",
    "import matplotlib.pyplot as plt\n",
    "import numpy as np"
   ]
  },
  {
   "cell_type": "code",
   "execution_count": 6,
   "id": "a012ea6c",
   "metadata": {
    "tags": []
   },
   "outputs": [],
   "source": [
    "palabra_elegida_list = []\n",
    "\n",
    "def decidir_palabra() -> str:\n",
    "    palabras = [\"Perro\", \"Gato\", \"Vaso\", \"Ventana\", \"Cama\", \"Coche\", \"Jardín\", \"Llave\", \"Pared\", \"Mesa\", \"Silla\", \"Libro\",\n",
    "     \"Puerta\", \"Agua\", \"Luz\", \"Comida\", \"Tierra\", \"Aire\", \"Fuego\", \"Hierro\", \"Oro\", \"Plata\", \"Cobre\", \"Madera\", \"Piedra\",\n",
    "     \"Cristal\", \"Acero\", \"Aluminio\", \"Bronce\", \"Titanio\", \"Oxígeno\", \"Nitrógeno\", \"Carbono\", \"Hidrógeno\", \"Helio\", \"Neón\",\n",
    "     \"Argón\", \"Kriptón\", \"Xenón\", \"Radio\", \"Televisión\", \"Internet\", \"Computadora\", \"Teléfono\", \"Reloj\", \"Cepillo\", \"Peine\",\n",
    "     \"Secador\", \"Jabón\", \"Champú\", \"Acondicionador\", \"Toalla\", \"Desodorante\", \"Perfume\",\n",
    "     \"Maquillaje\", \"Lápiz labial\", \"Sombrero\", \"Gorra\", \"Bufanda\", \"Guantes\", \"Calcetines\", \"Zapatos\", \"Botas\", \"Sandalias\",\n",
    "     \"Camisa\", \"Camiseta\", \"Pantalón\", \"Jeans\", \"Falda\", \"Vestido\", \"Traje\", \"Corbata\", \"Bolsa\", \"Cartera\", \"Moneda\", \"Dinero\",\n",
    "     \"Tarjeta\", \"Clave\", \"Lápiz\", \"Bolígrafo\", \"Pluma\", \"Pincel\", \"Pintura\", \"Lienzo\", \"Música\", \"Baile\", \"Teatro\", \"Cine\",\n",
    "     \"Pintura\", \"Escultura\", \"Literatura\", \"Poema\", \"Novela\", \"Cuento\", \"Historia\", \"Geografía\", \"Matemáticas\", \"Física\",\n",
    "     \"Química\", \"Biología\", \"Medicina\"]\n",
    "    \n",
    "    \n",
    "    palabra_elegida = random.choice(palabras)\n",
    "    \n",
    "    \n",
    "    caracteres = len(palabra_elegida)\n",
    "    \n",
    "    palabra_censurada = caracteres*\"_ \"\n",
    "    \n",
    "    print(f\"Tu palabra elegida tiene {caracteres} caracteres, es decir se ve así: {palabra_censurada}\")\n",
    "    \n",
    "    \n",
    "    \n",
    "    return palabra_elegida.lower()\n",
    "    "
   ]
  },
  {
   "cell_type": "code",
   "execution_count": 7,
   "id": "f3601fc7",
   "metadata": {
    "tags": []
   },
   "outputs": [],
   "source": [
    "contador_errores = 0\n",
    "def dibujar_rostro():\n",
    "    theta = np.linspace(0, 2*np.pi, 100)\n",
    "\n",
    "    r = 0.5\n",
    "    x = r * np.cos(theta)\n",
    "    y = r * np.sin(theta) + 5\n",
    "    plt.plot(x, y)\n",
    "        \n",
    "def dibujar_cuerpo():\n",
    "    # dibujar una línea desde el centro del círculo hasta el borde\n",
    "    plt.plot([0, 0], [4.5, 3.5])\n",
    "\n",
    "def dibujar_brazos():\n",
    "    plt.plot([-0.5, 0.5], [4.25, 4.25])\n",
    "\n",
    "def dibujar_pies():\n",
    "    plt.plot([0, -0.25], [3.5, 3])\n",
    "    plt.plot([0, 0.25], [3.5, 3])\n",
    "\n",
    "def dibujar_horca_1():\n",
    "    plt.plot([-1, -1], [3, 6])\n",
    "    \n",
    "def dibujar_horca_2():\n",
    "    plt.plot([-1, 0], [6, 6])\n",
    "    \n",
    "def dibujar():\n",
    "    plt.axis('equal')\n",
    "    global contador_errores\n",
    "    contador_errores += 1\n",
    "    \n",
    "    if contador_errores == 1:\n",
    "        dibujar_rostro()\n",
    "        plt.show()\n",
    "        return contador_errores\n",
    "    \n",
    "    elif contador_errores == 2:\n",
    "        dibujar_rostro()\n",
    "        dibujar_cuerpo()\n",
    "        plt.show()\n",
    "        return contador_errores\n",
    "    \n",
    "    elif contador_errores == 3:\n",
    "        dibujar_rostro()\n",
    "        dibujar_cuerpo()\n",
    "        dibujar_brazos()\n",
    "        plt.show()\n",
    "        return contador_errores\n",
    "    \n",
    "    elif contador_errores == 4:\n",
    "        dibujar_rostro()\n",
    "        dibujar_cuerpo()\n",
    "        dibujar_brazos()\n",
    "        dibujar_pies()\n",
    "        plt.show()\n",
    "        return contador_errores\n",
    "        \n",
    "    elif contador_errores == 5:\n",
    "        dibujar_rostro()\n",
    "        dibujar_cuerpo()\n",
    "        dibujar_brazos()\n",
    "        dibujar_pies()\n",
    "        dibujar_horca_1()\n",
    "        plt.show()\n",
    "        return contador_errores\n",
    "\n",
    "    elif contador_errores == 6:\n",
    "        dibujar_rostro()\n",
    "        dibujar_cuerpo()\n",
    "        dibujar_brazos()\n",
    "        dibujar_pies()\n",
    "        dibujar_horca_1()\n",
    "        dibujar_horca_2()\n",
    "        plt.show()\n",
    "        return contador_errores\n",
    "    else:\n",
    "        dibujar_rostro()\n",
    "        dibujar_cuerpo()\n",
    "        dibujar_brazos()\n",
    "        dibujar_pies()\n",
    "        dibujar_horca_1()\n",
    "        dibujar_horca_2()\n",
    "        #completar la horca y hacer al la cara de muerto\n",
    "        plt.plot([0, 0], [6, 5.5])\n",
    "\n",
    "        plt.plot([-0.2, -0.1], [5.2, 5.1])\n",
    "        plt.plot([-0.2, -0.1], [5.1, 5.2])\n",
    "\n",
    "        plt.plot([0.2, 0.1], [5.2, 5.1])\n",
    "        plt.plot([0.2, 0.1], [5.1, 5.2])\n",
    "\n",
    "        plt.plot([-0.25, 0.25], [4.75, 4.75])\n",
    "        \n",
    "        plt.show()\n",
    "        print(\"Ahorcado\")\n"
   ]
  },
  {
   "cell_type": "code",
   "execution_count": 13,
   "id": "bdd19bf8",
   "metadata": {
    "tags": []
   },
   "outputs": [],
   "source": [
    "caracter_usuario = \"a\"\n",
    "palabra_censurada = palabra_elegida_list.copy()\n",
    "for i in range(len(palabra_elegida_list)):\n",
    "    palabra_censurada[i] = \"_\"\n",
    "\n",
    "def verificar_palabra(palabra_original: str, palabra:str, letra_usuario:str):\n",
    "    \n",
    "    \n",
    "    for i in range(len(palabra)):\n",
    "        \n",
    "        if palabra_original[i] == letra_usuario:\n",
    "            palabra = list(palabra)\n",
    "            palabra[i] = letra_usuario\n",
    "            palabra = \"\".join(palabra)\n",
    "            \n",
    "    print(f\"Tu ahorcado ahora se ve de la siguiente manera: {' '.join(palabra)}\")\n",
    "    return palabra\n",
    "\n"
   ]
  },
  {
   "cell_type": "code",
   "execution_count": 16,
   "id": "06f4c235",
   "metadata": {
    "tags": []
   },
   "outputs": [
    {
     "name": "stdout",
     "output_type": "stream",
     "text": [
      "Tu palabra elegida tiene 7 caracteres, es decir se ve así: _ _ _ _ _ _ _ \n",
      "secador\n"
     ]
    },
    {
     "name": "stdin",
     "output_type": "stream",
     "text": [
      "Ingrese su caracter elegido s\n"
     ]
    },
    {
     "name": "stdout",
     "output_type": "stream",
     "text": [
      "Tu ahorcado ahora se ve de la siguiente manera: s _ _ _ _ _ _\n"
     ]
    },
    {
     "name": "stdin",
     "output_type": "stream",
     "text": [
      "Ingrese su caracter elegido e\n"
     ]
    },
    {
     "name": "stdout",
     "output_type": "stream",
     "text": [
      "Tu ahorcado ahora se ve de la siguiente manera: s e _ _ _ _ _\n"
     ]
    },
    {
     "name": "stdin",
     "output_type": "stream",
     "text": [
      "Ingrese su caracter elegido c\n"
     ]
    },
    {
     "name": "stdout",
     "output_type": "stream",
     "text": [
      "Tu ahorcado ahora se ve de la siguiente manera: s e c _ _ _ _\n"
     ]
    },
    {
     "name": "stdin",
     "output_type": "stream",
     "text": [
      "Ingrese su caracter elegido a\n"
     ]
    },
    {
     "name": "stdout",
     "output_type": "stream",
     "text": [
      "Tu ahorcado ahora se ve de la siguiente manera: s e c a _ _ _\n"
     ]
    },
    {
     "name": "stdin",
     "output_type": "stream",
     "text": [
      "Ingrese su caracter elegido d\n"
     ]
    },
    {
     "name": "stdout",
     "output_type": "stream",
     "text": [
      "Tu ahorcado ahora se ve de la siguiente manera: s e c a d _ _\n"
     ]
    },
    {
     "name": "stdin",
     "output_type": "stream",
     "text": [
      "Ingrese su caracter elegido o\n"
     ]
    },
    {
     "name": "stdout",
     "output_type": "stream",
     "text": [
      "Tu ahorcado ahora se ve de la siguiente manera: s e c a d o _\n"
     ]
    },
    {
     "name": "stdin",
     "output_type": "stream",
     "text": [
      "Ingrese su caracter elegido r\n"
     ]
    },
    {
     "name": "stdout",
     "output_type": "stream",
     "text": [
      "Tu ahorcado ahora se ve de la siguiente manera: s e c a d o r\n",
      "Ganaste !\n"
     ]
    }
   ],
   "source": [
    "\n",
    "\n",
    "palabra_secreta = decidir_palabra()\n",
    "print(palabra_secreta)\n",
    "caracter_usuario = None\n",
    "palabra_censurada = \"_\"*len(palabra_secreta)\n",
    "\n",
    "\n",
    "def palabra_completa(palabra):\n",
    "    return \"_\" not in palabra\n",
    "\n",
    "contador_errores = 0\n",
    "\n",
    "while contador_errores < 7 and palabra_completa(palabra_censurada) == False:\n",
    "    caracter_usuario = input(\"Ingrese su caracter elegido\")\n",
    "    \n",
    "    if caracter_usuario in palabra_secreta:\n",
    "        palabra_censurada = verificar_palabra(palabra_secreta, palabra_censurada, caracter_usuario)\n",
    "    else:\n",
    "        dibujar()\n",
    "\n",
    "if palabra_completa(palabra_censurada):\n",
    "    print(\"Ganaste !\")"
   ]
  },
  {
   "cell_type": "code",
   "execution_count": null,
   "id": "8c06b137-0962-4db4-9ba3-e25c5e6a4b6b",
   "metadata": {},
   "outputs": [],
   "source": []
  }
 ],
 "metadata": {
  "kernelspec": {
   "display_name": "Python 3 (ipykernel)",
   "language": "python",
   "name": "python3"
  },
  "language_info": {
   "codemirror_mode": {
    "name": "ipython",
    "version": 3
   },
   "file_extension": ".py",
   "mimetype": "text/x-python",
   "name": "python",
   "nbconvert_exporter": "python",
   "pygments_lexer": "ipython3",
   "version": "3.9.16"
  }
 },
 "nbformat": 4,
 "nbformat_minor": 5
}
